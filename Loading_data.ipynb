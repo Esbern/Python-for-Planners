{
  "cells": [
    {
      "cell_type": "markdown",
      "metadata": {
        "id": "view-in-github",
        "colab_type": "text"
      },
      "source": [
        "<a href=\"https://colab.research.google.com/github/Esbern/Python-for-Planners/blob/main/Loading_data.ipynb\" target=\"_parent\"><img src=\"https://colab.research.google.com/assets/colab-badge.svg\" alt=\"Open In Colab\"/></a>"
      ]
    },
    {
      "cell_type": "markdown",
      "id": "9b9d669d",
      "metadata": {
        "id": "9b9d669d"
      },
      "source": [
        "\n"
      ]
    },
    {
      "cell_type": "markdown",
      "id": "8b07a9c7",
      "metadata": {
        "id": "8b07a9c7"
      },
      "source": [
        "# Loading Data into Jupyter Notebooks\n",
        "\n",
        "Jupyter Notebooks support multiple ways of loading data, depending on where the data is stored. This notebook will cover different methods, including:\n",
        "\n",
        "- Loading local files\n",
        "- Loading files from a GitHub repository\n",
        "- Accessing simple APIs\n",
        "- Querying APIs with parameters\n",
        "- Connecting to a PostgreSQL database\n",
        "\n",
        "Each method has its own use cases, which will be explained below.\n",
        "\n",
        "---\n",
        "\n"
      ]
    },
    {
      "cell_type": "markdown",
      "id": "ba32b58d",
      "metadata": {
        "id": "ba32b58d"
      },
      "source": [
        "## 1. Loading Local Files\n",
        "\n",
        "Local files are files stored on your own computer. You can load them into Jupyter using `pandas.read_csv()` for CSV files, `pandas.read_excel()` for Excel files, and similar functions for other formats.\n",
        "\n"
      ]
    },
    {
      "cell_type": "markdown",
      "id": "8c7683c9",
      "metadata": {
        "id": "8c7683c9"
      },
      "source": [
        "### When to use:\n",
        "\n",
        "- When you have data stored locally on your own computer or in Google Drive (if using Google Colab).\n",
        "- When working with Excel, CSV, or binary formats like HDF5.\n",
        "\n"
      ]
    },
    {
      "cell_type": "markdown",
      "id": "e6082e85",
      "metadata": {
        "id": "e6082e85"
      },
      "source": [
        "### Example: Loading a CSV file from a local path\n",
        "\n"
      ]
    },
    {
      "cell_type": "code",
      "source": [
        "\n",
        "import pandas as pd"
      ],
      "metadata": {
        "id": "gRiJBUA8SATI"
      },
      "id": "gRiJBUA8SATI",
      "execution_count": null,
      "outputs": []
    },
    {
      "cell_type": "code",
      "execution_count": null,
      "id": "464bc298",
      "metadata": {
        "id": "464bc298"
      },
      "outputs": [],
      "source": [
        "\n",
        "\n",
        "# Load a CSV file from your local drive\n",
        "df = pd.read_csv(\"titanic.csv\")\n",
        "\n",
        "# Display the first 5 rows\n",
        "df.head()\n"
      ]
    },
    {
      "cell_type": "markdown",
      "id": "27c299f9",
      "metadata": {
        "id": "27c299f9"
      },
      "source": [
        "\n"
      ]
    },
    {
      "cell_type": "markdown",
      "id": "35b5ab1f",
      "metadata": {
        "id": "35b5ab1f"
      },
      "source": [
        "### Example: Loading an Excel file\n",
        "\n"
      ]
    },
    {
      "cell_type": "code",
      "execution_count": null,
      "id": "7d96a6eb",
      "metadata": {
        "id": "7d96a6eb"
      },
      "outputs": [],
      "source": [
        "\n",
        "df_excel = pd.read_excel(\"Afkrydsningsliste The Simulated City F25(2).xlsx\", sheet_name=\"Ark1\")\n",
        "df_excel.head(20)\n"
      ]
    },
    {
      "cell_type": "markdown",
      "id": "5cd03058",
      "metadata": {
        "id": "5cd03058"
      },
      "source": [
        "\n",
        "If using Google Colab, you can mount your Google Drive and access files stored there:\n",
        "\n"
      ]
    },
    {
      "cell_type": "code",
      "execution_count": null,
      "id": "3a9f053e",
      "metadata": {
        "id": "3a9f053e"
      },
      "outputs": [],
      "source": [
        "\n",
        "from google.colab import drive\n",
        "drive.mount('/content/drive')\n",
        "\n",
        "# Load file from Google Drive\n",
        "df = pd.read_csv(\"/content/drive/My Drive/titanic.csv\")\n",
        "df.head()\n"
      ]
    },
    {
      "cell_type": "markdown",
      "id": "02d2fde1",
      "metadata": {
        "id": "02d2fde1"
      },
      "source": [
        "\n",
        "---\n",
        "\n"
      ]
    },
    {
      "cell_type": "markdown",
      "id": "1695ea68",
      "metadata": {
        "id": "1695ea68"
      },
      "source": [
        "## 2. Loading Files from a GitHub Repository\n",
        "\n",
        "GitHub allows users to store and share datasets. If the dataset is in a text-based format like CSV or JSON, you can directly access the raw version using its URL.\n",
        "\n"
      ]
    },
    {
      "cell_type": "markdown",
      "id": "dbaaf9d0",
      "metadata": {
        "id": "dbaaf9d0"
      },
      "source": [
        "### When to use:\n",
        "\n",
        "- When working with public datasets hosted on GitHub.\n",
        "- When you need to share and access data easily in collaborative projects.\n",
        "\n"
      ]
    },
    {
      "cell_type": "markdown",
      "id": "81eb31e6",
      "metadata": {
        "id": "81eb31e6"
      },
      "source": [
        "### Example: Loading a CSV file from GitHub\n",
        "\n"
      ]
    },
    {
      "cell_type": "code",
      "execution_count": null,
      "id": "6d2a34e9",
      "metadata": {
        "id": "6d2a34e9"
      },
      "outputs": [],
      "source": [
        "\n",
        "# URL of the raw CSV file from a GitHub repository\n",
        "url = \"https://raw.githubusercontent.com/Esbern/Python-for-Planners/refs/heads/main/data/titanic.csv\"\n",
        "\n",
        "# Load data into Pandas\n",
        "df_github = pd.read_csv(url)\n",
        "\n",
        "# Display first few rows\n",
        "df_github.head()\n"
      ]
    },
    {
      "cell_type": "markdown",
      "id": "b641996c",
      "metadata": {
        "id": "b641996c"
      },
      "source": [
        "\n",
        "---\n",
        "\n"
      ]
    },
    {
      "cell_type": "markdown",
      "id": "3cae03fd",
      "metadata": {
        "id": "3cae03fd"
      },
      "source": [
        "## 3. Accessing Simple APIs\n",
        "\n",
        "Many public datasets are available via APIs that return data in JSON format. These can be accessed using the `requests` library.\n",
        "\n"
      ]
    },
    {
      "cell_type": "markdown",
      "id": "d5c81ebc",
      "metadata": {
        "id": "d5c81ebc"
      },
      "source": [
        "### When to use:\n",
        "\n",
        "- When working with real-time or frequently updated datasets.\n",
        "- When fetching structured data from web sources.\n",
        "\n"
      ]
    },
    {
      "cell_type": "markdown",
      "id": "26a3e3d9",
      "metadata": {
        "id": "26a3e3d9"
      },
      "source": [
        "### Example: Accessing earthquake data from USGS\n",
        "\n"
      ]
    },
    {
      "cell_type": "code",
      "execution_count": null,
      "id": "24b6955b",
      "metadata": {
        "id": "24b6955b"
      },
      "outputs": [],
      "source": [
        "\n",
        "import requests\n",
        "\n",
        "# Define API endpoint\n",
        "url = \"https://earthquake.usgs.gov/earthquakes/feed/v1.0/summary/significant_month.geojson\"\n",
        "\n",
        "# Send GET request\n",
        "response = requests.get(url)\n",
        "\n",
        "# Convert response to JSON\n",
        "data = response.json()\n",
        "\n",
        "# View keys in the JSON response\n",
        "data.keys()\n"
      ]
    },
    {
      "cell_type": "code",
      "execution_count": null,
      "id": "9adcd1c0-99f9-4730-8d7c-fdee68fb4a38",
      "metadata": {
        "id": "9adcd1c0-99f9-4730-8d7c-fdee68fb4a38"
      },
      "outputs": [],
      "source": [
        "### See the notebook load_Earthquake_geojson_from_web.ipynb on github"
      ]
    },
    {
      "cell_type": "markdown",
      "id": "d42b63d8",
      "metadata": {
        "id": "d42b63d8"
      },
      "source": [
        "\n",
        "---\n",
        "\n"
      ]
    },
    {
      "cell_type": "markdown",
      "id": "e8dc31e9",
      "metadata": {
        "id": "e8dc31e9"
      },
      "source": [
        "## 4. Querying APIs with Parameters\n",
        "\n",
        "Some APIs require parameters in the request. These parameters can be sent using `requests.get()` (for GET requests) or `requests.post()` (for POST requests).\n",
        "\n"
      ]
    },
    {
      "cell_type": "markdown",
      "id": "de806bbc",
      "metadata": {
        "id": "de806bbc"
      },
      "source": [
        "### When to use:\n",
        "\n",
        "- When querying large datasets with filtering capabilities.\n",
        "- When working with APIs that require authentication or complex queries.\n",
        "\n"
      ]
    },
    {
      "cell_type": "markdown",
      "id": "de1759a8",
      "metadata": {
        "id": "de1759a8"
      },
      "source": [
        "### Example: Querying Statistics Denmark API\n",
        "\n"
      ]
    },
    {
      "cell_type": "code",
      "execution_count": null,
      "id": "0e8738ce",
      "metadata": {
        "id": "0e8738ce"
      },
      "outputs": [],
      "source": [
        "\n",
        "# Define API endpoint\n",
        "url = \"https://api.statbank.dk/v1/subjects\"\n",
        "\n",
        "# Define request parameters\n",
        "payload = {\n",
        "    \"recursive\": True,\n",
        "    \"omitSubjectsWithoutTables\": True,\n",
        "    \"includeTables\": True,\n",
        "    \"format\": \"JSON\"\n",
        "}\n",
        "\n",
        "# Send API request\n",
        "response = requests.post(url, json=payload)\n",
        "\n",
        "# Convert response to JSON\n",
        "data = response.json()\n",
        "\n",
        "# Print first few subjects\n",
        "data[:3]\n"
      ]
    },
    {
      "cell_type": "markdown",
      "id": "d0042c83",
      "metadata": {
        "id": "d0042c83"
      },
      "source": [
        "\n",
        "---\n",
        "\n"
      ]
    },
    {
      "cell_type": "markdown",
      "id": "e3afbb9b",
      "metadata": {
        "id": "e3afbb9b"
      },
      "source": [
        "## 5. Connecting to a PostgreSQL Database\n",
        "\n",
        "Databases like PostgreSQL allow you to store and query large datasets efficiently. In Python, you can use the `psycopg2` library or `SQLAlchemy` to connect to a PostgreSQL database.\n",
        "\n"
      ]
    },
    {
      "cell_type": "markdown",
      "id": "51f323e3",
      "metadata": {
        "id": "51f323e3"
      },
      "source": [
        "### When to use:\n",
        "\n",
        "- When working with structured data stored in relational databases.\n",
        "- When handling large datasets that exceed the memory capacity of a CSV or JSON file.\n",
        "\n"
      ]
    },
    {
      "cell_type": "markdown",
      "id": "c993fb08",
      "metadata": {
        "id": "c993fb08"
      },
      "source": [
        "### Example: Connecting to a PostgreSQL Database and Querying a Table\n",
        "\n"
      ]
    },
    {
      "cell_type": "code",
      "execution_count": null,
      "id": "058993d2",
      "metadata": {
        "id": "058993d2"
      },
      "outputs": [],
      "source": [
        "\n",
        "import psycopg2\n",
        "import pandas as pd\n",
        "\n",
        "# Database connection parameters\n",
        "db_params = {\n",
        "    \"dbname\": \"GeoILUM\",\n",
        "    \"user\": \"ws_gr1\",\n",
        "    \"password\": \"GeoILUM\",\n",
        "    \"host\": \"geoilum.ruc.dk\",\n",
        "    \"port\": 5432\n",
        "}\n",
        "\n",
        "# Connect to the database\n",
        "conn = psycopg2.connect(**db_params)\n",
        "\n",
        "# Query data from the public.base_attributes table\n",
        "query = \"SELECT * FROM geoilum.base_attributes LIMIT 5;\"\n",
        "df_db = pd.read_sql(query, conn)\n",
        "\n",
        "# Close connection\n",
        "conn.close()\n",
        "\n",
        "# Display data\n",
        "df_db.head()\n"
      ]
    },
    {
      "cell_type": "markdown",
      "id": "a588a044",
      "metadata": {
        "id": "a588a044"
      },
      "source": [
        "\n",
        "---\n",
        "\n"
      ]
    },
    {
      "cell_type": "markdown",
      "id": "5eee8499",
      "metadata": {
        "id": "5eee8499"
      },
      "source": [
        "## Summary of Data Loading Methods\n",
        "\n",
        "|Method|Best for|Example|\n",
        "|---|---|---|\n",
        "|**Local Files**|Personal datasets, Excel, CSV, binary files|`pd.read_csv(\"file.csv\")`|\n",
        "|**GitHub Files**|Publicly shared CSV/JSON files|`pd.read_csv(\"https://raw.githubusercontent.com/...\")`|\n",
        "|**Simple APIs**|Fetching JSON data from web services|`requests.get(url).json()`|\n",
        "|**APIs with Parameters**|Querying structured data with filters|`requests.post(url, json=payload).json()`|\n",
        "|**Databases (PostgreSQL)**|Large datasets, structured data|`psycopg2.connect(...)`|\n",
        "\n",
        "Each method has its use cases depending on the nature of the dataset and how frequently it changes.\n",
        "\n",
        "\n"
      ]
    },
    {
      "cell_type": "markdown",
      "id": "6e7babd1",
      "metadata": {
        "id": "6e7babd1"
      },
      "source": [
        "# 📖 Understanding JSON and Python Dictionaries Using Norwegian Meteorological Service Data\n",
        "\n"
      ]
    },
    {
      "cell_type": "markdown",
      "id": "a194154d",
      "metadata": {
        "id": "a194154d"
      },
      "source": [
        "## 🔎 **Introduction: Lists, Tuples, and Dictionaries in Python**\n",
        "\n",
        "Before diving into JSON and APIs, let's first understand **dictionaries** and how they differ from **lists** and **tuples**—the two structures you’ve already learned.\n",
        "\n",
        "|Data Structure|Syntax|Mutable?|Ordered?|Example|\n",
        "|---|---|---|---|---|\n",
        "|**List**|`[]`|✅ Yes|✅ Yes (since Python 3.7)|`[\"apple\", \"banana\", \"cherry\"]`|\n",
        "|**Tuple**|`()`|❌ No|✅ Yes|`(\"apple\", \"banana\", \"cherry\")`|\n",
        "|**Dictionary**|`{}`|✅ Yes|✅ Yes (since Python 3.7)|`{\"name\": \"Alice\", \"age\": 25}`|\n",
        "\n"
      ]
    },
    {
      "cell_type": "markdown",
      "id": "00c98873",
      "metadata": {
        "id": "00c98873"
      },
      "source": [
        "### 🔹 **Lists**\n",
        "\n",
        "- Ordered collection of items.\n",
        "- Items are indexed starting from `0`.\n",
        "- Can contain **duplicate values**.\n",
        "- Example:\n",
        "    \n",
        "    ```python\n",
        "    fruits = [\"apple\", \"banana\", \"cherry\"]\n",
        "    print(fruits[1])  # Outputs: banana\n",
        "    ```\n",
        "    \n",
        "\n"
      ]
    },
    {
      "cell_type": "markdown",
      "id": "02c0e22c",
      "metadata": {
        "id": "02c0e22c"
      },
      "source": [
        "### 🔹 **Tuples**\n",
        "\n",
        "- Similar to lists but **immutable** (cannot be changed after creation).\n",
        "- Example:\n",
        "    \n",
        "    ```python\n",
        "    colors = (\"red\", \"green\", \"blue\")\n",
        "    print(colors[0])  # Outputs: red\n",
        "    ```\n",
        "    \n",
        "\n"
      ]
    },
    {
      "cell_type": "markdown",
      "id": "bac3d9b2",
      "metadata": {
        "id": "bac3d9b2"
      },
      "source": [
        "### 🔹 **Dictionaries**\n",
        "\n",
        "- **Key-value pairs** (like a real-world dictionary: \"word → definition\").\n",
        "- **Keys must be unique**.\n",
        "- **Fast lookups** using keys instead of index numbers.\n",
        "- Example:\n",
        "    \n",
        "\n"
      ]
    },
    {
      "cell_type": "code",
      "source": [
        "\n",
        "student = {\"name\": \"Alice\", \"age\": 25, \"grade\": \"A\"}\n",
        "print(student[\"name\"])  # Outputs: Alice\n"
      ],
      "metadata": {
        "id": "2GSX6EkHSmmX"
      },
      "id": "2GSX6EkHSmmX",
      "execution_count": null,
      "outputs": []
    },
    {
      "cell_type": "markdown",
      "source": [
        "    \n",
        "\n",
        "Dictionaries are **crucial** for working with JSON because JSON follows a **key-value** structure.\n",
        "\n",
        "---\n"
      ],
      "metadata": {
        "id": "mVVTZV9BSo9g"
      },
      "id": "mVVTZV9BSo9g"
    },
    {
      "cell_type": "markdown",
      "id": "181573ec",
      "metadata": {
        "id": "181573ec"
      },
      "source": [
        "## 🔍 **Step 1: What is JSON?**\n",
        "\n",
        "**JSON (JavaScript Object Notation)** is a text format that looks a lot like a Python dictionary.\n",
        "\n",
        "Example JSON:\n",
        "\n"
      ]
    },
    {
      "cell_type": "code",
      "execution_count": null,
      "id": "84344546",
      "metadata": {
        "id": "84344546"
      },
      "outputs": [],
      "source": [
        "\n",
        "{\n",
        "  \"temperature\": 5.2,\n",
        "  \"wind_speed\": 3.5,\n",
        "  \"weather\": \"Cloudy\"\n",
        "}\n"
      ]
    },
    {
      "cell_type": "markdown",
      "id": "d8084686",
      "metadata": {
        "id": "d8084686"
      },
      "source": [
        "\n",
        "This JSON contains:\n",
        "\n",
        "- `\"temperature\": 5.2`\n",
        "- `\"wind_speed\": 3.5`\n",
        "- `\"weather\": \"Cloudy\"`\n",
        "\n",
        "When we fetch data from an API, it is usually returned in **JSON format**, and we can convert it into a **Python dictionary** to manipulate it.\n",
        "\n",
        "---\n",
        "\n"
      ]
    },
    {
      "cell_type": "markdown",
      "id": "361189da",
      "metadata": {
        "id": "361189da"
      },
      "source": [
        "## 🛠 **Step 2: Fetching Weather Data from the Norwegian Meteorological Service**\n",
        "\n",
        "We can retrieve live weather data from the **Norwegian Meteorological Service API**. Let's first make a request and examine the JSON structure.\n",
        "\n"
      ]
    },
    {
      "cell_type": "markdown",
      "id": "43e0d74e",
      "metadata": {
        "id": "43e0d74e"
      },
      "source": [
        "### 📥 **Fetching the JSON Data**\n",
        "\n"
      ]
    },
    {
      "cell_type": "code",
      "execution_count": null,
      "id": "46faa2ab",
      "metadata": {
        "id": "46faa2ab"
      },
      "outputs": [],
      "source": [
        "\n",
        "import requests\n",
        "import json\n",
        "\n",
        "# API URL for Copenhagen (lat=55.6761, lon=12.5683)\n",
        "url = \"https://api.met.no/weatherapi/locationforecast/2.0/complete?lat=55.6761&lon=12.5683\"\n",
        "\n",
        "# Headers are required by the API\n",
        "headers = {\"User-Agent\": \"Python for Planners\"}\n",
        "response = requests.get(url, headers=headers)\n",
        "\n",
        "# Convert JSON response to a Python dictionary\n",
        "weather_data = response.json()\n",
        "\n",
        "# Pretty print the JSON (for inspection)\n",
        "print(json.dumps(weather_data, indent=2))\n"
      ]
    },
    {
      "cell_type": "markdown",
      "id": "cb8b5082",
      "metadata": {
        "id": "cb8b5082"
      },
      "source": [
        "\n",
        "✅ **What happens here?**\n",
        "\n",
        "- We **send a request** to the weather API.\n",
        "- The response is returned in **JSON format**.\n",
        "- We **convert it into a Python dictionary**.\n",
        "- We print a **formatted JSON output** for easier reading.\n",
        "\n",
        "---\n",
        "\n"
      ]
    },
    {
      "cell_type": "markdown",
      "id": "22faf4f9",
      "metadata": {
        "id": "22faf4f9"
      },
      "source": [
        "## 🔍 **Step 3: Extracting Key Weather Information**\n",
        "\n",
        "Since the data structure is a **nested dictionary**, we need to navigate through it.\n",
        "\n"
      ]
    },
    {
      "cell_type": "code",
      "execution_count": null,
      "id": "20df0ba1",
      "metadata": {
        "id": "20df0ba1"
      },
      "outputs": [],
      "source": [
        "\n",
        "# Extract the first time series entry\n",
        "first_entry = weather_data[\"properties\"][\"timeseries\"][0]\n",
        "\n",
        "# Extract timestamp\n",
        "timestamp = first_entry[\"time\"]\n",
        "\n",
        "# Extract temperature and wind speed\n",
        "temperature = first_entry[\"data\"][\"instant\"][\"details\"][\"air_temperature\"]\n",
        "wind_speed = first_entry[\"data\"][\"instant\"][\"details\"][\"wind_speed\"]\n",
        "\n",
        "print(f\"Time: {timestamp}\")\n",
        "print(f\"Temperature: {temperature}°C\")\n",
        "print(f\"Wind Speed: {wind_speed} m/s\")\n"
      ]
    },
    {
      "cell_type": "markdown",
      "id": "79749e04",
      "metadata": {
        "id": "79749e04"
      },
      "source": [
        "\n",
        "---\n",
        "\n"
      ]
    },
    {
      "cell_type": "markdown",
      "id": "0531772a",
      "metadata": {
        "id": "0531772a"
      },
      "source": [
        "## 📊 **Step 4: Visualizing Weather Data with Graphs**\n",
        "\n",
        "Now that we have the weather data, let's **plot some fancy graphs**! We'll use **Matplotlib** and **Pandas** to visualize:\n",
        "\n",
        "1. **Temperature over time**\n",
        "2. **Wind speed over time**\n",
        "3. **A combined plot of temperature and wind speed**\n",
        "\n"
      ]
    },
    {
      "cell_type": "markdown",
      "id": "4b4c11a0",
      "metadata": {
        "id": "4b4c11a0"
      },
      "source": [
        "### 📦 **Installing Required Libraries**\n",
        "\n",
        "If you haven't already installed Matplotlib and Pandas, install them using:\n",
        "\n"
      ]
    },
    {
      "cell_type": "code",
      "execution_count": null,
      "id": "f3f292f1",
      "metadata": {
        "id": "f3f292f1"
      },
      "outputs": [],
      "source": [
        "\n",
        "pip install matplotlib pandas\n"
      ]
    },
    {
      "cell_type": "markdown",
      "id": "1ffc9b37",
      "metadata": {
        "id": "1ffc9b37"
      },
      "source": [
        "\n"
      ]
    },
    {
      "cell_type": "markdown",
      "id": "8efd5117",
      "metadata": {
        "id": "8efd5117"
      },
      "source": [
        "### 🖥 **Code to Fetch Data and Create Graphs**\n",
        "\n"
      ]
    },
    {
      "cell_type": "code",
      "execution_count": null,
      "id": "23150032",
      "metadata": {
        "id": "23150032"
      },
      "outputs": [],
      "source": [
        "\n",
        "import matplotlib.pyplot as plt\n",
        "import pandas as pd\n",
        "\n",
        "# Extract time series data\n",
        "timeseries = weather_data[\"properties\"][\"timeseries\"]\n",
        "\n",
        "# Create lists for time, temperature, and wind speed\n",
        "timestamps = []\n",
        "temperatures = []\n",
        "wind_speeds = []\n",
        "\n",
        "for entry in timeseries[:48]:  # Take only 48 entries (next 2 days)\n",
        "    timestamps.append(entry[\"time\"])\n",
        "    temperatures.append(entry[\"data\"][\"instant\"][\"details\"][\"air_temperature\"])\n",
        "    wind_speeds.append(entry[\"data\"][\"instant\"][\"details\"][\"wind_speed\"])\n",
        "\n",
        "# Convert lists into a Pandas DataFrame\n",
        "df = pd.DataFrame({\"Time\": timestamps, \"Temperature (°C)\": temperatures, \"Wind Speed (m/s)\": wind_speeds})\n",
        "\n",
        "# Convert Time column to datetime format for better plotting\n",
        "df[\"Time\"] = pd.to_datetime(df[\"Time\"])\n",
        "\n",
        "# Plot Temperature\n",
        "plt.figure(figsize=(10, 5))\n",
        "plt.plot(df[\"Time\"], df[\"Temperature (°C)\"], marker='o', linestyle='-', label=\"Temperature (°C)\")\n",
        "plt.xlabel(\"Time\")\n",
        "plt.ylabel(\"Temperature (°C)\")\n",
        "plt.title(\"Temperature Forecast\")\n",
        "plt.xticks(rotation=45)\n",
        "plt.legend()\n",
        "plt.grid(True)\n",
        "plt.show()\n",
        "\n",
        "# Plot Wind Speed\n",
        "plt.figure(figsize=(10, 5))\n",
        "plt.plot(df[\"Time\"], df[\"Wind Speed (m/s)\"], marker='s', linestyle='-', color='red', label=\"Wind Speed (m/s)\")\n",
        "plt.xlabel(\"Time\")\n",
        "plt.ylabel(\"Wind Speed (m/s)\")\n",
        "plt.title(\"Wind Speed Forecast\")\n",
        "plt.xticks(rotation=45)\n",
        "plt.legend()\n",
        "plt.grid(True)\n",
        "plt.show()\n",
        "\n",
        "# Combined Plot\n",
        "plt.figure(figsize=(10, 5))\n",
        "plt.plot(df[\"Time\"], df[\"Temperature (°C)\"], marker='o', linestyle='-', label=\"Temperature (°C)\")\n",
        "plt.plot(df[\"Time\"], df[\"Wind Speed (m/s)\"], marker='s', linestyle='-', color='red', label=\"Wind Speed (m/s)\")\n",
        "plt.xlabel(\"Time\")\n",
        "plt.ylabel(\"Value\")\n",
        "plt.title(\"Temperature and Wind Speed Forecast\")\n",
        "plt.xticks(rotation=45)\n",
        "plt.legend()\n",
        "plt.grid(True)\n",
        "plt.show()\n"
      ]
    },
    {
      "cell_type": "markdown",
      "id": "ccd27c41",
      "metadata": {
        "id": "ccd27c41"
      },
      "source": [
        "\n",
        "---\n",
        "\n"
      ]
    },
    {
      "cell_type": "markdown",
      "id": "5fb9595a",
      "metadata": {
        "id": "5fb9595a"
      },
      "source": [
        "## 🎨 **Understanding the Graphs**\n",
        "\n",
        "1. **Temperature Forecast**:\n",
        "    \n",
        "    - Plots **temperature (°C) over time**.\n",
        "    - Shows **hourly changes** for the next **48 hours**.\n",
        "    - Uses **circles** (`o`) as markers.\n",
        "2. **Wind Speed Forecast**:\n",
        "    \n",
        "    - Plots **wind speed (m/s) over time**.\n",
        "    - Uses **squares** (`s`) as markers.\n",
        "    - Helps in analyzing **wind conditions**.\n",
        "3. **Combined Forecast**:\n",
        "    \n",
        "    - Displays both **temperature and wind speed** on the same graph.\n",
        "    - Helps understand how **temperature and wind speed change together**.\n",
        "\n",
        "---\n",
        "\n"
      ]
    },
    {
      "cell_type": "markdown",
      "id": "ef2581d4",
      "metadata": {
        "id": "ef2581d4"
      },
      "source": [
        "## ✅ **Final Summary**\n",
        "\n",
        "|Concept|Key Takeaways|\n",
        "|---|---|\n",
        "|**Lists**|Ordered, mutable, uses `[]`|\n",
        "|**Tuples**|Ordered, immutable, uses `()`|\n",
        "|**Dictionaries**|Key-value pairs, uses `{}`|\n",
        "|**JSON**|Text format, similar to dictionaries|\n",
        "|**API Calls**|Uses `requests` to fetch data|\n",
        "|**Data Extraction**|JSON → Dictionary → Extract values|\n",
        "|**Visualization**|Plots temperature and wind speed|\n",
        "\n",
        "---\n",
        "\n"
      ]
    },
    {
      "cell_type": "markdown",
      "id": "8371b1e7",
      "metadata": {
        "id": "8371b1e7"
      },
      "source": [
        "### 🏁 **Next Steps**\n",
        "\n",
        "- **Modify the API URL** to get weather for different cities.\n",
        "- **Extract and plot more weather details** (like precipitation).\n",
        "- **Try using a bar chart** for wind speed.\n",
        "\n",
        "🚀 **Now go ahead and create your own weather visualizations!** 🎨📊\n"
      ]
    },
    {
      "cell_type": "markdown",
      "id": "fe3cd0c2",
      "metadata": {
        "id": "fe3cd0c2"
      },
      "source": [
        "# Creating an Interactive Map with Folium and GeoJSON\n",
        "\n"
      ]
    },
    {
      "cell_type": "markdown",
      "id": "c0dbd4f1",
      "metadata": {
        "id": "c0dbd4f1"
      },
      "source": [
        "## Introduction\n",
        "\n",
        "In this guide, you will learn how to use **Folium**, a Python library for interactive mapping, to visualize data from a GeoJSON file hosted on GitHub.\n",
        "\n",
        "We will:\n",
        "\n",
        "1. Load the GeoJSON data from GitHub.\n",
        "2. Create a **Folium** map centered around the locations in the dataset.\n",
        "3. Add the GeoJSON data to the map.\n",
        "4. Display the final interactive map.\n",
        "\n",
        "---\n",
        "\n"
      ]
    },
    {
      "cell_type": "markdown",
      "id": "5f92732a",
      "metadata": {
        "id": "5f92732a"
      },
      "source": [
        "## Step 1: Install Folium\n",
        "\n",
        "Before we begin, ensure you have **Folium** installed. You can install it using:\n",
        "\n"
      ]
    },
    {
      "cell_type": "code",
      "execution_count": null,
      "id": "736c8618",
      "metadata": {
        "id": "736c8618"
      },
      "outputs": [],
      "source": [
        "\n",
        "pip install folium\n"
      ]
    },
    {
      "cell_type": "markdown",
      "id": "4871dbf2",
      "metadata": {
        "id": "4871dbf2"
      },
      "source": [
        "\n",
        "---\n",
        "\n"
      ]
    },
    {
      "cell_type": "markdown",
      "id": "f9a96a1b",
      "metadata": {
        "id": "f9a96a1b"
      },
      "source": [
        "## Step 2: Load the GeoJSON Data\n",
        "\n",
        "We will fetch the **GeoJSON** data directly from GitHub. The URL for the file is:\n",
        "\n",
        "📌 **GeoJSON URL:**  \n",
        "[`https://raw.githubusercontent.com/Esbern/Python-for-Planners/refs/heads/main/test.geojson`](https://raw.githubusercontent.com/Esbern/Python-for-Planners/refs/heads/main/test.geojson)\n",
        "\n",
        "In Python, use the `requests` library to download the GeoJSON file:\n",
        "\n"
      ]
    },
    {
      "cell_type": "code",
      "execution_count": null,
      "id": "3b227701",
      "metadata": {
        "id": "3b227701"
      },
      "outputs": [],
      "source": [
        "\n",
        "import requests\n",
        "import folium\n",
        "\n",
        "# URL of the GeoJSON file\n",
        "geojson_url = \"https://raw.githubusercontent.com/Esbern/Python-for-Planners/refs/heads/main/test.geojson\"\n",
        "\n",
        "# Fetch the data\n",
        "response = requests.get(geojson_url)\n",
        "geojson_data = response.json()\n"
      ]
    },
    {
      "cell_type": "markdown",
      "id": "e0961c18",
      "metadata": {
        "id": "e0961c18"
      },
      "source": [
        "\n",
        "---\n",
        "\n"
      ]
    },
    {
      "cell_type": "markdown",
      "id": "91e3fa9e",
      "metadata": {
        "id": "91e3fa9e"
      },
      "source": [
        "## Step 3: Create the Map\n",
        "\n",
        "Now, we will create a **Folium** map centered around the locations in our **GeoJSON** data.\n",
        "\n",
        "We extract the first location’s coordinates and use them to set the initial map view.\n",
        "\n"
      ]
    },
    {
      "cell_type": "code",
      "execution_count": null,
      "id": "8cca9f13",
      "metadata": {
        "id": "8cca9f13"
      },
      "outputs": [],
      "source": [
        "\n",
        "# Extract the first coordinate for map centering\n",
        "first_feature = geojson_data[\"features\"][0]\n",
        "center_coords = first_feature[\"geometry\"][\"coordinates\"][::-1]  # Reverse to (lat, lon)\n",
        "\n",
        "# Create the map centered around the first location\n",
        "m = folium.Map(location=center_coords, zoom_start=14)\n"
      ]
    },
    {
      "cell_type": "markdown",
      "id": "d8c83c5b",
      "metadata": {
        "id": "d8c83c5b"
      },
      "source": [
        "\n",
        "---\n",
        "\n"
      ]
    },
    {
      "cell_type": "markdown",
      "id": "0dea24f0",
      "metadata": {
        "id": "0dea24f0"
      },
      "source": [
        "## Step 4: Add GeoJSON Data to the Map\n",
        "\n",
        "Now, we will **add the GeoJSON layer** to the map.\n",
        "\n"
      ]
    },
    {
      "cell_type": "code",
      "execution_count": null,
      "id": "8c469e20",
      "metadata": {
        "id": "8c469e20"
      },
      "outputs": [],
      "source": [
        "\n",
        "# Add GeoJSON data to the map\n",
        "folium.GeoJson(\n",
        "    geojson_data,\n",
        "    name=\"GeoJSON Layer\",\n",
        "    tooltip=folium.GeoJsonTooltip(fields=[\"NAvn\"])  # Show 'NAvn' property on hover\n",
        ").add_to(m)\n"
      ]
    },
    {
      "cell_type": "markdown",
      "id": "c1ccc1be",
      "metadata": {
        "id": "c1ccc1be"
      },
      "source": [
        "\n",
        "---\n",
        "\n"
      ]
    },
    {
      "cell_type": "markdown",
      "id": "59d45252",
      "metadata": {
        "id": "59d45252"
      },
      "source": [
        "## Step 5: Display the Map\n",
        "\n",
        "Finally, display the interactive map.\n",
        "\n"
      ]
    },
    {
      "cell_type": "code",
      "execution_count": null,
      "id": "4c4df7db",
      "metadata": {
        "id": "4c4df7db"
      },
      "outputs": [],
      "source": [
        "\n",
        "# Show the map\n",
        "m\n"
      ]
    },
    {
      "cell_type": "markdown",
      "id": "13b5c4ac",
      "metadata": {
        "id": "13b5c4ac"
      },
      "source": [
        "\n",
        "💡 **In Jupyter Notebook**, the map will automatically render when you run the cell. If you're using a script, save it as an **HTML file**:\n",
        "\n"
      ]
    },
    {
      "cell_type": "code",
      "execution_count": null,
      "id": "03b56cb5",
      "metadata": {
        "id": "03b56cb5"
      },
      "outputs": [],
      "source": [
        "\n",
        "m.save(\"map.html\")\n"
      ]
    },
    {
      "cell_type": "markdown",
      "id": "796c5d96",
      "metadata": {
        "id": "796c5d96"
      },
      "source": [
        "\n",
        "---\n",
        "\n"
      ]
    },
    {
      "cell_type": "markdown",
      "id": "639c9af1",
      "metadata": {
        "id": "639c9af1"
      },
      "source": [
        "## Full Code\n",
        "\n",
        "Here’s the **complete script**:\n",
        "\n"
      ]
    },
    {
      "cell_type": "code",
      "execution_count": null,
      "id": "d223acaa",
      "metadata": {
        "id": "d223acaa"
      },
      "outputs": [],
      "source": [
        "\n",
        "import requests\n",
        "import folium\n",
        "\n",
        "# Step 1: Load the GeoJSON data\n",
        "geojson_url = \"https://raw.githubusercontent.com/Esbern/Python-for-Planners/refs/heads/main/test.geojson\"\n",
        "response = requests.get(geojson_url)\n",
        "geojson_data = response.json()\n",
        "\n",
        "# Step 2: Get map center from first feature\n",
        "first_feature = geojson_data[\"features\"][0]\n",
        "center_coords = first_feature[\"geometry\"][\"coordinates\"][::-1]  # Reverse to (lat, lon)\n",
        "\n",
        "# Step 3: Create Folium map\n",
        "m = folium.Map(location=center_coords, zoom_start=14)\n",
        "\n",
        "# Step 4: Add GeoJSON layer\n",
        "folium.GeoJson(\n",
        "    geojson_data,\n",
        "    name=\"GeoJSON Layer\",\n",
        "    tooltip=folium.GeoJsonTooltip(fields=[\"NAvn\"])\n",
        ").add_to(m)\n",
        "\n",
        "# Step 5: Save and show the map\n",
        "m.save(\"map.html\")\n",
        "m  # Display in Jupyter Notebook\n"
      ]
    },
    {
      "cell_type": "markdown",
      "id": "204d6094",
      "metadata": {
        "id": "204d6094"
      },
      "source": [
        "\n",
        "---\n",
        "\n"
      ]
    },
    {
      "cell_type": "markdown",
      "id": "e976d1f6",
      "metadata": {
        "id": "e976d1f6"
      },
      "source": [
        "## Summary\n",
        "\n",
        "✔ **Loaded** GeoJSON data from a **GitHub URL**  \n",
        "✔ **Created** a Folium map centered on the locations  \n",
        "✔ **Added** the GeoJSON data with tooltips  \n",
        "✔ **Displayed** the interactive map\n",
        "\n",
        "Now, open **`map.html`** in a browser to explore your map! 🚀\n"
      ]
    }
  ],
  "metadata": {
    "kernelspec": {
      "display_name": "Python [conda env:miniforge3-openAI]",
      "language": "python",
      "name": "conda-env-miniforge3-openAI-py"
    },
    "language_info": {
      "codemirror_mode": {
        "name": "ipython",
        "version": 3
      },
      "file_extension": ".py",
      "mimetype": "text/x-python",
      "name": "python",
      "nbconvert_exporter": "python",
      "pygments_lexer": "ipython3",
      "version": "3.12.5"
    },
    "colab": {
      "provenance": [],
      "include_colab_link": true
    }
  },
  "nbformat": 4,
  "nbformat_minor": 5
}